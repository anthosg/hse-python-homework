{
 "cells": [
  {
   "cell_type": "code",
   "execution_count": 12,
   "id": "e2bd9671-062a-405a-bfd3-0b0925e54cf3",
   "metadata": {},
   "outputs": [
    {
     "name": "stdout",
     "output_type": "stream",
     "text": [
      "Идеальные пары:\n",
      "Alex и Emma\n",
      "Arthur и Kate\n",
      "John и Kira\n",
      "Peter и Liza\n",
      "Richard и Trisha\n"
     ]
    }
   ],
   "source": [
    "boys = [\"Peter\", \"Alex\", \"John\", \"Arthur\", \"Richard\"]\n",
    "girls = [\"Kate\", \"Liza\", \"Kira\", \"Emma\", \"Trisha\"]\n",
    "\n",
    "boys = sorted(boys)\n",
    "girls = sorted(girls)\n",
    "\n",
    "if len(boys) == len(girls):\n",
    "    print(\"Идеальные пары:\")\n",
    "    couples = dict(zip(boys, girls))\n",
    "    for boy, girl in couples.items():\n",
    "        print(boy, \"и\", girl)\n",
    "else:\n",
    "    print(\"Внимание, кто-то может остаться без пары!\")"
   ]
  }
 ],
 "metadata": {
  "kernelspec": {
   "display_name": "Python 3 (ipykernel)",
   "language": "python",
   "name": "python3"
  },
  "language_info": {
   "codemirror_mode": {
    "name": "ipython",
    "version": 3
   },
   "file_extension": ".py",
   "mimetype": "text/x-python",
   "name": "python",
   "nbconvert_exporter": "python",
   "pygments_lexer": "ipython3",
   "version": "3.11.6"
  }
 },
 "nbformat": 4,
 "nbformat_minor": 5
}
