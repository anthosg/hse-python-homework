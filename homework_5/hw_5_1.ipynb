{
 "cells": [
  {
   "cell_type": "code",
   "execution_count": 25,
   "id": "1a5f83cf-ebdd-447f-bdf1-f81a001a6a86",
   "metadata": {},
   "outputs": [
    {
     "name": "stdout",
     "output_type": "stream",
     "text": [
      "The Moscow Times - Wednesday, October 2, 2002\n",
      "2002-10-02 00:00:00\n",
      "<class 'datetime.datetime'>\n",
      "\n",
      "The Guardian - Friday, 11.10.13\n",
      "2013-10-11 00:00:00\n",
      "<class 'datetime.datetime'>\n",
      "\n",
      "Daily News - Thursday, 18 August 1977\n",
      "1977-08-18 00:00:00\n",
      "<class 'datetime.datetime'>\n",
      "\n"
     ]
    }
   ],
   "source": [
    "import datetime\n",
    "\n",
    "print(\"The Moscow Times - Wednesday, October 2, 2002\")\n",
    "moscow_times_date = \"Wednesday, October 2, 2002\"\n",
    "moscow_times_string = \"%A, %B %d, %Y\"\n",
    "moscow_times = datetime.datetime.strptime(moscow_times_date, moscow_times_string)\n",
    "print(moscow_times)\n",
    "print(type(moscow_times))\n",
    "print()\n",
    "\n",
    "\n",
    "print(\"The Guardian - Friday, 11.10.13\")\n",
    "guardian_date = \"Friday, 11.10.13\"\n",
    "guardian_string = \"%A, %d.%m.%y\"\n",
    "guardian = datetime.datetime.strptime(guardian_date, guardian_string)\n",
    "print(guardian)\n",
    "print(type(guardian))\n",
    "print()\n",
    "\n",
    "\n",
    "print(\"Daily News - Thursday, 18 August 1977\")\n",
    "daily_news_date = \"Thursday, 18 August 1977\"\n",
    "daily_news_string = \"%A, %d %B %Y\"\n",
    "daily_news = datetime.datetime.strptime(daily_news_date, daily_news_string)\n",
    "print(daily_news)\n",
    "print(type(daily_news))\n",
    "print()"
   ]
  }
 ],
 "metadata": {
  "kernelspec": {
   "display_name": "Python 3 (ipykernel)",
   "language": "python",
   "name": "python3"
  },
  "language_info": {
   "codemirror_mode": {
    "name": "ipython",
    "version": 3
   },
   "file_extension": ".py",
   "mimetype": "text/x-python",
   "name": "python",
   "nbconvert_exporter": "python",
   "pygments_lexer": "ipython3",
   "version": "3.11.6"
  }
 },
 "nbformat": 4,
 "nbformat_minor": 5
}
