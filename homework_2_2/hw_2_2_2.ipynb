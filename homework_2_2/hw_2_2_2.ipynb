{
 "cells": [
  {
   "cell_type": "code",
   "execution_count": 2,
   "id": "1a8b176c-4434-4d32-80e4-e10a03f0b896",
   "metadata": {},
   "outputs": [
    {
     "name": "stdout",
     "output_type": "stream",
     "text": [
      "Поисковых запросов, содержащих 2 слов(а): 42.86%\n",
      "Поисковых запросов, содержащих 3 слов(а): 57.14%\n"
     ]
    }
   ],
   "source": [
    "queries = [\n",
    "    'смотреть сериалы онлайн',\n",
    "    'новости спорта',\n",
    "    'афиша кино',\n",
    "    'курс доллара',\n",
    "    'сериалы этим летом',\n",
    "    'курс по питону',\n",
    "    'сериалы про спорт',\n",
    "]\n",
    "\n",
    "words_count = {}\n",
    "for word in queries:\n",
    "    count = len(word.split())\n",
    "    if count not in words_count:\n",
    "        words_count[count] = 0\n",
    "    words_count[count] = words_count[count] + 1\n",
    "words_count = dict(sorted(words_count.items()))\n",
    "\n",
    "queries_count = len(queries) / 100\n",
    "for word, count in words_count.items():\n",
    "    percent = round(count / queries_count, 2)\n",
    "    print(f\"Поисковых запросов, содержащих {word} слов(а): {percent}%\")"
   ]
  }
 ],
 "metadata": {
  "kernelspec": {
   "display_name": "Python 3 (ipykernel)",
   "language": "python",
   "name": "python3"
  },
  "language_info": {
   "codemirror_mode": {
    "name": "ipython",
    "version": 3
   },
   "file_extension": ".py",
   "mimetype": "text/x-python",
   "name": "python",
   "nbconvert_exporter": "python",
   "pygments_lexer": "ipython3",
   "version": "3.11.6"
  }
 },
 "nbformat": 4,
 "nbformat_minor": 5
}
