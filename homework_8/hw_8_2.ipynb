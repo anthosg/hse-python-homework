{
 "cells": [
  {
   "cell_type": "code",
   "execution_count": 17,
   "id": "57b7f3de-61ae-4804-afd0-320717f2b06c",
   "metadata": {},
   "outputs": [
    {
     "name": "stdin",
     "output_type": "stream",
     "text": [
      "Введите город:  Москва\n"
     ]
    },
    {
     "name": "stdout",
     "output_type": "stream",
     "text": [
      "\n",
      "Город: Москва\n",
      "Текущая температура: 3.15°\n",
      "Описание погоды: облачно с прояснениями\n"
     ]
    }
   ],
   "source": [
    "import requests\n",
    "\n",
    "api_key = ''\n",
    "url = \"https://api.openweathermap.org/data/2.5/weather?lang=ru&units=metric&appid=\" + api_key\n",
    "\n",
    "try:\n",
    "    city = input(\"Введите город: \")\n",
    "    response = requests.get(url + \"&q=\" + city)\n",
    "    response.raise_for_status()\n",
    "    data = response.json()\n",
    "\n",
    "    print()\n",
    "    print(\"Город: \" + str(data[\"name\"]))\n",
    "    print(\"Текущая температура: \" + str(data[\"main\"][\"temp\"]) + \"°\")\n",
    "    print(\"Описание погоды: \" + str(data[\"weather\"][0][\"description\"]))\n",
    "\n",
    "except requests.exceptions.HTTPError as error:\n",
    "    print(f\"HTTP ошибка: {error}\")\n",
    "except requests.exceptions.RequestException as error:\n",
    "    print(f\"Ошибка запроса: {error}\")"
   ]
  }
 ],
 "metadata": {
  "kernelspec": {
   "display_name": "Python 3 (ipykernel)",
   "language": "python",
   "name": "python3"
  },
  "language_info": {
   "codemirror_mode": {
    "name": "ipython",
    "version": 3
   },
   "file_extension": ".py",
   "mimetype": "text/x-python",
   "name": "python",
   "nbconvert_exporter": "python",
   "pygments_lexer": "ipython3",
   "version": "3.11.6"
  }
 },
 "nbformat": 4,
 "nbformat_minor": 5
}
