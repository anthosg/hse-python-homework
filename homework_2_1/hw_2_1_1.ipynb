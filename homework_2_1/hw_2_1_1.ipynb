{
 "cells": [
  {
   "cell_type": "code",
   "execution_count": 1,
   "id": "4f46e85c-d174-4eff-8bd3-c06cc54d6f05",
   "metadata": {},
   "outputs": [
    {
     "name": "stdin",
     "output_type": "stream",
     "text": [
      "Введите слова:  testing\n"
     ]
    },
    {
     "name": "stdout",
     "output_type": "stream",
     "text": [
      "Количество букв в слове НЕчётное\n",
      "t\n"
     ]
    }
   ],
   "source": [
    "word = input(\"Введите слова: \")\n",
    "word_length = len(word)\n",
    "\n",
    "if word_length % 2:\n",
    "    print(\"Количество букв в слове НЕчётное\")\n",
    "    word_length_middle = int(word_length / 2)\n",
    "    print(word[word_length_middle])\n",
    "else:\n",
    "    print(\"Количество букв в слове чётное\")\n",
    "    word_length_middle = int(word_length / 2)\n",
    "    print(word[word_length_middle - 1 : word_length_middle + 1])"
   ]
  }
 ],
 "metadata": {
  "kernelspec": {
   "display_name": "Python 3 (ipykernel)",
   "language": "python",
   "name": "python3"
  },
  "language_info": {
   "codemirror_mode": {
    "name": "ipython",
    "version": 3
   },
   "file_extension": ".py",
   "mimetype": "text/x-python",
   "name": "python",
   "nbconvert_exporter": "python",
   "pygments_lexer": "ipython3",
   "version": "3.11.6"
  }
 },
 "nbformat": 4,
 "nbformat_minor": 5
}
