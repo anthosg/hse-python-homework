{
 "cells": [
  {
   "cell_type": "code",
   "execution_count": 19,
   "id": "c5c830ad-cf6a-4ccd-b3af-205a4b4b3f49",
   "metadata": {},
   "outputs": [
    {
     "name": "stdout",
     "output_type": "stream",
     "text": [
      "Lorem ipsum dolor sit amet, consectetur adipiscing elit.\n",
      "--------------------------------------------------------\n",
      "Ante taciti nulla sit libero orci sed nam. Sagittis suspendisse gravida ornare iaculis cras nullam varius ac ullamcorper. Nunc euismod hendrerit netus ligula aptent potenti. Aliquam volutpat nibh scelerisque at. Ipsum molestie phasellus euismod sagittis mauris, erat ut. Gravida morbi, sagittis blandit quis ipsum mi mus semper dictum amet himenaeos. Accumsan non congue praesent interdum habitasse turpis orci. Ante curabitur porttitor ullamcorper sagittis sem donec, inceptos cubilia venenatis ac. Augue fringilla sodales in ullamcorper enim curae; rutrum hac in sociis! Scelerisque integer varius et euismod aenean nulla. Quam habitasse risus nullam enim. Ultrices etiam viverra mattis aliquam? Consectetur velit vel volutpat eget curae;. Volutpat class mus elementum pulvinar! Nisi tincidunt volutpat consectetur. Primis morbi pulvinar est montes diam himenaeos duis elit est orci. Taciti sociis aptent venenatis dui malesuada dui justo faucibus primis consequat volutpat. Rhoncus ante purus eros nibh, id et hendrerit pellentesque scelerisque vehicula sollicitudin quam. Hac class vitae natoque tortor dolor dui praesent suspendisse. Vehicula euismod tincidunt odio platea aenean habitasse neque ad proin. Bibendum phasellus enim fames risus eget felis et sem fringilla etiam. Integer.\n",
      "\n",
      "\n",
      "\n",
      "Quisque non ligula laoreet, volutpat velit cursus, condimentum arcu.\n",
      "--------------------------------------------------------------------\n",
      "Placerat erat consectetur mauris sollicitudin facilisis praesent nam nascetur! Semper odio est condimentum sollicitudin fames orci porttitor consequat platea urna. Sit faucibus luctus sollicitudin, purus euismod. Volutpat habitasse molestie magnis tempus tempus conubia! Quam fringilla vitae, lacus tortor fusce. Ante enim pretium proin nec, bibendum tempus ipsum porta. Hac nunc nunc pretium! Mauris consectetur, nulla taciti class. Porttitor, nulla rutrum integer torquent accumsan magnis? Morbi condimentum senectus pulvinar duis; himenaeos adipiscing. Lacus facilisi ad scelerisque vestibulum nisl. Mi torquent curae; gravida molestie sagittis imperdiet habitasse aenean mus. Nibh nibh nisl parturient odio eros lorem suspendisse blandit torquent cum elementum. Nibh feugiat metus cursus rutrum feugiat lacinia suspendisse suscipit mollis dolor eget nisl. Adipiscing ullamcorper lobortis in. Tellus taciti fames elit consectetur laoreet pulvinar. Potenti tristique a mus, eget pharetra! Viverra.\n",
      "\n",
      "\n",
      "\n",
      "Morbi dictum dui vel bibendum ultrices.\n",
      "---------------------------------------\n",
      "Et ullamcorper, litora integer taciti suspendisse. Sociosqu hac bibendum elit quisque et porta in viverra sagittis conubia luctus himenaeos. Tempus ultricies egestas tempus aliquet commodo netus ultricies semper montes turpis eros dis. Scelerisque torquent enim ac pellentesque primis congue consectetur varius congue erat curae;! Scelerisque nunc condimentum class erat ultrices. Fringilla eros vulputate quisque platea aptent vivamus porta natoque. Laoreet vehicula aliquam, integer ornare interdum magna. Molestie facilisi volutpat platea primis aptent facilisi etiam ut vestibulum dis sagittis. Fames elit tincidunt id. Ante id tempus sollicitudin platea. Sagittis id fermentum litora placerat ligula primis consectetur dictum. Ligula orci facilisi dis, egestas tempus urna sollicitudin laoreet turpis tincidunt elementum imperdiet. Lobortis convallis natoque dictum dapibus enim accumsan diam pulvinar fusce. Proin nullam duis pretium hac hac dictum purus neque eget rutrum. Suspendisse sodales libero cum felis. Porta curabitur lobortis libero mollis at tempus egestas luctus erat sapien!\n",
      "\n",
      "\n",
      "\n",
      "Duis bibendum augue et feugiat imperdiet.\n",
      "-----------------------------------------\n",
      "Primis conubia vivamus vestibulum curabitur! Pellentesque ad vitae cras mollis morbi elementum. Quisque gravida arcu vehicula morbi scelerisque curae; mi sapien. Elementum cum interdum senectus dolor vulputate. Pulvinar ultricies mauris arcu primis aenean arcu sagittis. Vulputate mollis fermentum luctus magnis convallis pellentesque commodo montes ut suspendisse turpis. Fermentum dapibus mattis sociosqu condimentum aliquam. Ut magna vel lacinia dis luctus tincidunt dapibus montes ligula dictumst potenti duis. Lobortis lorem litora auctor parturient mollis vel etiam fusce euismod pretium? Integer per faucibus netus fringilla. Libero mi rhoncus est aliquam? Montes ultricies consequat hac fusce tempus lacinia taciti. Sagittis; luctus vestibulum mus libero eleifend. Tempor arcu gravida bibendum quam aptent. Ad scelerisque lectus volutpat semper, luctus urna magnis duis vitae aliquam. Ut iaculis magna nullam vivamus sociis cubilia maecenas accumsan. Inceptos proin montes ultricies nunc bibendum vestibulum lorem. Fames curae; lectus tempor lacus? Habitant nullam imperdiet eleifend sem odio tempor sit! Purus ornare dui, erat dictumst maecenas turpis penatibus. Cursus tellus congue luctus etiam pharetra potenti sagittis consequat odio. Integer gravida habitasse duis cum metus sociosqu aenean aliquet commodo cubilia imperdiet? Ante litora sapien rutrum sodales tortor odio tempor cubilia mus erat nascetur! Senectus natoque vehicula dui gravida.\n",
      "\n",
      "\n",
      "\n",
      "Integer molestie metus eu felis facilisis venenatis.\n",
      "----------------------------------------------------\n",
      "Taciti proin leo faucibus montes parturient cursus quis sodales hac magna dui cursus. Neque aliquam dolor mollis commodo primis. Quisque suscipit proin pharetra nascetur quisque litora cubilia arcu. Cursus, mattis venenatis ullamcorper fringilla donec dictumst. Eros pulvinar eu nibh sodales tincidunt leo turpis justo purus facilisi. Cum vitae suscipit aenean cum lorem etiam molestie viverra condimentum. Proin cursus hac elit eros. Est risus vitae eu sociis magnis, malesuada rutrum. Sodales non cras ridiculus venenatis malesuada dui quam parturient cubilia tristique. Non elementum mollis turpis conubia velit semper natoque ac magnis. Hendrerit tortor ridiculus, fusce nec. Vel interdum condimentum semper fringilla nunc per lobortis senectus condimentum maecenas. Litora tristique, aliquet laoreet amet. Aptent cubilia libero quam dignissim urna. Orci donec morbi blandit pellentesque aptent ac blandit montes ultrices dignissim suspendisse. Class lacus egestas in eu ac condimentum cras.\n",
      "\n",
      "\n",
      "\n"
     ]
    }
   ],
   "source": [
    "import requests\n",
    "\n",
    "url = \"https://jsonplaceholder.org/posts\"\n",
    "\n",
    "try:\n",
    "    response = requests.get(url)\n",
    "    response.raise_for_status()\n",
    "    items = response.json()\n",
    "    \n",
    "    for item in items[:5]:\n",
    "        print(item[\"title\"])\n",
    "        print(\"-\" * len(item[\"title\"]))\n",
    "        print(item[\"content\"])\n",
    "        print(\"\\n\\n\")\n",
    "\n",
    "except requests.exceptions.HTTPError as http_error:\n",
    "    print(f\"HTTP ошибка: {http_error}\")\n",
    "except requests.exceptions.RequestException as error:\n",
    "    print(f\"Ошибка запроса: {error}\")"
   ]
  }
 ],
 "metadata": {
  "kernelspec": {
   "display_name": "Python 3 (ipykernel)",
   "language": "python",
   "name": "python3"
  },
  "language_info": {
   "codemirror_mode": {
    "name": "ipython",
    "version": 3
   },
   "file_extension": ".py",
   "mimetype": "text/x-python",
   "name": "python",
   "nbconvert_exporter": "python",
   "pygments_lexer": "ipython3",
   "version": "3.11.6"
  }
 },
 "nbformat": 4,
 "nbformat_minor": 5
}
