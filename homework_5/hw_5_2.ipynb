{
 "cells": [
  {
   "cell_type": "code",
   "execution_count": 1,
   "id": "fcd1d93e-d0f0-43e3-a132-905a9e21af24",
   "metadata": {},
   "outputs": [
    {
     "name": "stdout",
     "output_type": "stream",
     "text": [
      "['2022-01-01', '2022-01-02', '2022-01-03']\n",
      "[]\n",
      "[]\n"
     ]
    }
   ],
   "source": [
    "import datetime\n",
    "\n",
    "def date_range(start, end):\n",
    "    try:\n",
    "        start_date = datetime.datetime.strptime(start, \"%Y-%m-%d\")\n",
    "        end_date = datetime.datetime.strptime(end, \"%Y-%m-%d\")\n",
    "        \n",
    "        if start_date > end_date:\n",
    "            return []\n",
    "        \n",
    "        ranged_date = []\n",
    "        current_date = start_date\n",
    "        while current_date <= end_date:\n",
    "            ranged_date.append(current_date.strftime(\"%Y-%m-%d\"))\n",
    "            current_date += datetime.timedelta(days=1)\n",
    "        \n",
    "        return ranged_date\n",
    "    except ValueError:\n",
    "        return []\n",
    "\n",
    "dates = date_range(\"2022-01-01\", \"2022-01-03\")\n",
    "print(dates)\n",
    "\n",
    "dates = date_range(\"2022-01-03\", \"2022-01-01\")\n",
    "print(dates)\n",
    "\n",
    "dates = date_range(\"2022-02-30\", \"2022-02-31\")\n",
    "print(dates)"
   ]
  }
 ],
 "metadata": {
  "kernelspec": {
   "display_name": "Python 3 (ipykernel)",
   "language": "python",
   "name": "python3"
  },
  "language_info": {
   "codemirror_mode": {
    "name": "ipython",
    "version": 3
   },
   "file_extension": ".py",
   "mimetype": "text/x-python",
   "name": "python",
   "nbconvert_exporter": "python",
   "pygments_lexer": "ipython3",
   "version": "3.11.6"
  }
 },
 "nbformat": 4,
 "nbformat_minor": 5
}
