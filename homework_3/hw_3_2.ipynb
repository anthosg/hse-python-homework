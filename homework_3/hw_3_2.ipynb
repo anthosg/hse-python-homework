{
 "cells": [
  {
   "cell_type": "code",
   "execution_count": 14,
   "id": "afe900e8-c6b8-46b3-8dc6-b689377ba998",
   "metadata": {},
   "outputs": [
    {
     "name": "stdout",
     "output_type": "stream",
     "text": [
      "даниеданиеданиедание\n"
     ]
    }
   ],
   "source": [
    "def trim_and_repeat(name, offset = 0, repetitions = 1):\n",
    "    return name[offset:] * repetitions\n",
    "\n",
    "result = trim_and_repeat(\"Задание\", 2, 4)\n",
    "print(result)"
   ]
  }
 ],
 "metadata": {
  "kernelspec": {
   "display_name": "Python 3 (ipykernel)",
   "language": "python",
   "name": "python3"
  },
  "language_info": {
   "codemirror_mode": {
    "name": "ipython",
    "version": 3
   },
   "file_extension": ".py",
   "mimetype": "text/x-python",
   "name": "python",
   "nbconvert_exporter": "python",
   "pygments_lexer": "ipython3",
   "version": "3.11.6"
  }
 },
 "nbformat": 4,
 "nbformat_minor": 5
}
