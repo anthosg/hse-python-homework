{
 "cells": [
  {
   "cell_type": "code",
   "execution_count": 2,
   "id": "178eafdd-6e7b-47e6-89ad-56e3cae32170",
   "metadata": {},
   "outputs": [
    {
     "name": "stdin",
     "output_type": "stream",
     "text": [
      "Введите первое число:  5\n",
      "Введите второе число:  10\n"
     ]
    },
    {
     "name": "stdout",
     "output_type": "stream",
     "text": [
      "45\n"
     ]
    }
   ],
   "source": [
    "def sum_distance (from_, to):\n",
    "    from_ = int(from_)\n",
    "    to = int(to)\n",
    "    if from_ > to:\n",
    "        from_, to = to, from_\n",
    "    ranged_list = list(range(from_, to + 1))\n",
    "    return sum(ranged_list)\n",
    "\n",
    "from_ = input(\"Введите первое число: \")\n",
    "to = input(\"Введите второе число: \")\n",
    "print(sum_distance(from_, to))"
   ]
  }
 ],
 "metadata": {
  "kernelspec": {
   "display_name": "Python 3 (ipykernel)",
   "language": "python",
   "name": "python3"
  },
  "language_info": {
   "codemirror_mode": {
    "name": "ipython",
    "version": 3
   },
   "file_extension": ".py",
   "mimetype": "text/x-python",
   "name": "python",
   "nbconvert_exporter": "python",
   "pygments_lexer": "ipython3",
   "version": "3.11.6"
  }
 },
 "nbformat": 4,
 "nbformat_minor": 5
}
